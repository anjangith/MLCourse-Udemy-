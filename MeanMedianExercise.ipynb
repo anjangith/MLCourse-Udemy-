{
 "cells": [
  {
   "cell_type": "markdown",
   "metadata": {},
   "source": [
    "# Exercise: Mean & Median Customer Spend"
   ]
  },
  {
   "cell_type": "markdown",
   "metadata": {},
   "source": [
    "Here's some code that will generate some random e-commerce data; just an array of total amount spent per transaction. Select the code block, and hit \"play\" to execute it:"
   ]
  },
  {
   "cell_type": "code",
   "execution_count": 7,
   "metadata": {},
   "outputs": [
    {
     "data": {
      "image/png": "[encoded data removed]",
      "text/plain": [
       "<Figure size 432x288 with 1 Axes>"
      ]
     },
     "metadata": {
      "needs_background": "light"
     },
     "output_type": "display_data"
    }
   ],
   "source": [
    "%matplotlib inline\n",
    "import numpy as np\n",
    "import matplotlib.pyplot as plt\n",
    "\n",
    "incomes = np.random.normal(100.0, 20.0, 100)\n",
    "\n",
    "plt.hist(incomes, 10)\n",
    "plt.show()"
   ]
  },
  {
   "cell_type": "markdown",
   "metadata": {},
   "source": [
    "Now, find the mean and median of this data. In the code block below, write your code, and see if your result makes sense:"
   ]
  },
  {
   "cell_type": "code",
   "execution_count": 4,
   "metadata": {},
   "outputs": [
    {
     "data": {
      "text/plain": [
       "100.01349020799543"
      ]
     },
     "execution_count": 4,
     "metadata": {},
     "output_type": "execute_result"
    }
   ],
   "source": [
    "np.mean(incomes)\n"
   ]
  },
  {
   "cell_type": "markdown",
   "metadata": {},
   "source": [
    "This is pretty much the world's easiest assignment, but we're just trying to get your hands on iPython and writing code with numpy to get you comfortable with it.\n",
    "\n",
    "Try playing with the code above to generate different distributions of data, or add outliers to it to see their effect."
   ]
  },
  {
   "cell_type": "code",
   "execution_count": 9,
   "metadata": {},
   "outputs": [
    {
     "data": {
      "text/plain": [
       "99.25902738363189"
      ]
     },
     "execution_count": 9,
     "metadata": {},
     "output_type": "execute_result"
    }
   ],
   "source": [
    "np.median(incomes)"
   ]
  },
  {
   "cell_type": "code",
   "execution_count": 10,
   "metadata": {},
   "outputs": [
    {
     "name": "stdout",
     "output_type": "stream",
     "text": [
      "[104.42427233  93.49107205 109.50965503  83.22083128 141.46792006\n",
      "  95.14408608 109.83543569  88.42187489  85.40540792 125.91645696\n",
      " 109.32242975 111.47395502 113.93698872 101.64736736 117.87253069\n",
      "  68.32514882  86.18815558 111.01409938  88.48086485 103.7739221\n",
      "  84.78559978  53.54687007 110.82295614  76.44035596 105.16417405\n",
      " 108.83999505  71.13848686 135.2538221  134.23937778 106.59876911\n",
      " 120.47241279  98.41240668 121.53506143 105.35377049  82.43773964\n",
      "  99.0421784   69.39679148 106.06305421  71.71784587 111.04718547\n",
      "  95.07488967  83.96449848  91.52632287 131.80791187 126.15863894\n",
      " 115.62251921  96.83123225  79.06132086 104.26012093  84.39686354\n",
      " 116.70312279  75.97548131  98.41349952  86.25496798  99.47587636\n",
      "  98.12463682  89.37146149 106.4759867   94.64463575  69.8070098\n",
      " 101.98804134  94.94722822 107.74475921 104.3506149  102.81316495\n",
      "  68.78672191 113.1864534   84.50687129 119.64578533  93.92393791\n",
      "  95.74978929 116.83579179 109.23746523  78.69391758  70.48967456\n",
      " 109.56087229 102.35840465  91.15896077  75.14183284 110.11524453\n",
      "  96.36930099  83.35012264 111.39684022  80.96606482 112.269148\n",
      " 120.55340794  54.98009318  97.56157784  84.72092035 118.67890356\n",
      " 103.11086768  88.14902136  79.74336183  93.28344412  71.60921867\n",
      " 123.94483997  94.85902892 100.87476137 121.50682491 100.0161934 ]\n"
     ]
    }
   ],
   "source": [
    "print(incomes)"
   ]
  },
  {
   "cell_type": "code",
   "execution_count": 12,
   "metadata": {},
   "outputs": [
    {
     "data": {
      "text/plain": [
       "ModeResult(mode=array([53.54687007]), count=array([1]))"
      ]
     },
     "execution_count": 12,
     "metadata": {},
     "output_type": "execute_result"
    }
   ],
   "source": [
    "from scipy import stats\n",
    "stats.mode(incomes)"
   ]
  },
  {
   "cell_type": "code",
   "execution_count": 13,
   "metadata": {},
   "outputs": [],
   "source": [
    "incomes = np.append(incomes,[200])"
   ]
  },
  {
   "cell_type": "code",
   "execution_count": 14,
   "metadata": {},
   "outputs": [
    {
     "data": {
      "text/plain": [
       "99.54764157242973"
      ]
     },
     "execution_count": 14,
     "metadata": {},
     "output_type": "execute_result"
    }
   ],
   "source": [
    "np.mean(incomes)"
   ]
  },
  {
   "cell_type": "code",
   "execution_count": 15,
   "metadata": {},
   "outputs": [
    {
     "data": {
      "text/plain": [
       "99.47587636433023"
      ]
     },
     "execution_count": 15,
     "metadata": {},
     "output_type": "execute_result"
    }
   ],
   "source": [
    "np.median(incomes)"
   ]
  },
  {
   "cell_type": "code",
   "execution_count": null,
   "metadata": {},
   "outputs": [],
   "source": []
  }
 ],
 "metadata": {
  "kernelspec": {
   "display_name": "Python 3",
   "language": "python",
   "name": "python3"
  },
  "language_info": {
   "codemirror_mode": {
    "name": "ipython",
    "version": 3
   },
   "file_extension": ".py",
   "mimetype": "text/x-python",
   "name": "python",
   "nbconvert_exporter": "python",
   "pygments_lexer": "ipython3",
   "version": "3.7.3"
  }
 },
 "nbformat": 4,
 "nbformat_minor": 1
}
